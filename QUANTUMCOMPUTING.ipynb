{
 "cells": [
  {
   "cell_type": "code",
   "execution_count": 1,
   "id": "50ae74f8",
   "metadata": {},
   "outputs": [],
   "source": [
    "import qiskit"
   ]
  },
  {
   "cell_type": "code",
   "execution_count": 2,
   "id": "2685f50a",
   "metadata": {},
   "outputs": [
    {
     "data": {
      "text/plain": [
       "'2.1.0'"
      ]
     },
     "execution_count": 2,
     "metadata": {},
     "output_type": "execute_result"
    }
   ],
   "source": [
    "qiskit.__version__"
   ]
  },
  {
   "cell_type": "code",
   "execution_count": 4,
   "id": "aa4ebe8f",
   "metadata": {},
   "outputs": [
    {
     "name": "stdout",
     "output_type": "stream",
     "text": [
      "   ┌───┐┌───┐┌───┐\n",
      "q: ┤ H ├┤ X ├┤ Z ├\n",
      "   └───┘└───┘└───┘\n"
     ]
    }
   ],
   "source": [
    "from qiskit import QuantumCircuit\n",
    "\n",
    "# Create a simple quantum circuit with 1 qubit\n",
    "qc = QuantumCircuit(1)\n",
    "\n",
    "# Apply common gates\n",
    "qc.h(0)    # Hadamard gate\n",
    "qc.x(0)    # Pauli-X gate\n",
    "qc.z(0)    # Pauli-Z gate\n",
    "\n",
    "# Visualize as ASCII\n",
    "print(qc.draw())\n"
   ]
  },
  {
   "cell_type": "code",
   "execution_count": 5,
   "id": "4a1c0b0d",
   "metadata": {},
   "outputs": [
    {
     "data": {
      "image/png": "[encoded data removed]",
      "text/plain": [
       "<Figure size 287.294x200.667 with 1 Axes>"
      ]
     },
     "execution_count": 5,
     "metadata": {},
     "output_type": "execute_result"
    }
   ],
   "source": [
    "from qiskit.visualization import circuit_drawer\n",
    "\n",
    "qc = QuantumCircuit(2)\n",
    "qc.h(0)\n",
    "qc.cx(0, 1)  # CNOT gate\n",
    "\n",
    "# Render the circuit using matplotlib\n",
    "circuit_drawer(qc, output='mpl')\n",
    "\n"
   ]
  },
  {
   "cell_type": "code",
   "execution_count": 6,
   "id": "04d36276",
   "metadata": {},
   "outputs": [
    {
     "data": {
      "image/png": "[encoded data removed]",
      "text/plain": [
       "<Figure size 454.719x284.278 with 1 Axes>"
      ]
     },
     "execution_count": 6,
     "metadata": {},
     "output_type": "execute_result"
    }
   ],
   "source": [
    "from qiskit import QuantumCircuit\n",
    "from qiskit.visualization import circuit_drawer\n",
    "\n",
    "qc = QuantumCircuit(3)\n",
    "qc.h(0)\n",
    "qc.cx(0, 1)\n",
    "qc.x(2)\n",
    "qc.barrier()\n",
    "qc.ccx(0, 1, 2)  # Toffoli (CCX) gate\n",
    "\n",
    "circuit_drawer(qc, output='mpl')\n"
   ]
  },
  {
   "cell_type": "code",
   "execution_count": 7,
   "id": "fc049a20",
   "metadata": {},
   "outputs": [
    {
     "name": "stdout",
     "output_type": "stream",
     "text": [
      "LHS = (A⊗B)(|v>⊗|w>):\n",
      " [[ 0]\n",
      " [ 0]\n",
      " [ 0]\n",
      " [-1]]\n",
      "RHS = A|v>⊗B|w>:\n",
      " [[ 0]\n",
      " [ 0]\n",
      " [ 0]\n",
      " [-1]]\n",
      "Are both equal? True\n"
     ]
    }
   ],
   "source": [
    "import numpy as np\n",
    "\n",
    "# Define matrices A and B\n",
    "A = np.array([[0, 1],\n",
    "              [1, 0]])  # Pauli-X\n",
    "B = np.array([[1, 0],\n",
    "              [0, -1]])  # Pauli-Z\n",
    "\n",
    "# Define vectors |v> and |w>\n",
    "v = np.array([[1],\n",
    "              [0]])  # |0>\n",
    "w = np.array([[0],\n",
    "              [1]])  # |1>\n",
    "\n",
    "# Compute tensor product |v> ⊗ |w>\n",
    "v_tensor_w = np.kron(v, w)\n",
    "\n",
    "# Compute A|v> and B|w>\n",
    "Av = A @ v\n",
    "Bw = B @ w\n",
    "\n",
    "# Compute (A ⊗ B)(|v> ⊗ |w>)\n",
    "lhs = np.kron(A, B) @ v_tensor_w\n",
    "\n",
    "# Compute A|v> ⊗ B|w>\n",
    "rhs = np.kron(Av, Bw)\n",
    "\n",
    "# Check if both sides are equal\n",
    "print(\"LHS = (A⊗B)(|v>⊗|w>):\\n\", lhs)\n",
    "print(\"RHS = A|v>⊗B|w>:\\n\", rhs)\n",
    "print(\"Are both equal?\", np.allclose(lhs, rhs))\n"
   ]
  },
  {
   "cell_type": "code",
   "execution_count": 10,
   "id": "53227707",
   "metadata": {},
   "outputs": [],
   "source": [
    "lhs = np.kron(A, B)"
   ]
  },
  {
   "cell_type": "code",
   "execution_count": 11,
   "id": "18f9c01f",
   "metadata": {},
   "outputs": [
    {
     "data": {
      "text/plain": [
       "array([[ 0,  0,  1,  0],\n",
       "       [ 0,  0,  0, -1],\n",
       "       [ 1,  0,  0,  0],\n",
       "       [ 0, -1,  0,  0]])"
      ]
     },
     "execution_count": 11,
     "metadata": {},
     "output_type": "execute_result"
    }
   ],
   "source": [
    "lhs"
   ]
  },
  {
   "cell_type": "code",
   "execution_count": null,
   "id": "f714d322",
   "metadata": {},
   "outputs": [],
   "source": []
  }
 ],
 "metadata": {
  "kernelspec": {
   "display_name": "mahadev",
   "language": "python",
   "name": "python3"
  },
  "language_info": {
   "codemirror_mode": {
    "name": "ipython",
    "version": 3
   },
   "file_extension": ".py",
   "mimetype": "text/x-python",
   "name": "python",
   "nbconvert_exporter": "python",
   "pygments_lexer": "ipython3",
   "version": "3.13.5"
  }
 },
 "nbformat": 4,
 "nbformat_minor": 5
}
